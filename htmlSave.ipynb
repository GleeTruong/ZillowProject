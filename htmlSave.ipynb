{
 "cells": [
  {
   "cell_type": "code",
   "execution_count": 1,
   "metadata": {},
   "outputs": [],
   "source": [
    "import csv\n",
    "import pandas as pd\n",
    "import requests\n",
    "import fake_useragent\n",
    "\n",
    "\n",
    "\n",
    "from urllib.request import urlopen\n",
    "from bs4 import BeautifulSoup as BS\n",
    "\n",
    "from selenium import webdriver\n",
    "from selenium.webdriver.common.keys import Keys\n",
    "from selenium.webdriver.chrome.options import Options\n",
    "from selenium.webdriver.common.by import By\n",
    "from selenium import webdriver\n",
    "from selenium.webdriver.common.proxy import Proxy, ProxyType\n",
    "\n",
    "from fake_useragent import UserAgent"
   ]
  },
  {
   "cell_type": "code",
   "execution_count": 26,
   "metadata": {},
   "outputs": [
    {
     "name": "stderr",
     "output_type": "stream",
     "text": [
      "C:\\Users\\truon\\.conda\\envs\\BAN612\\lib\\site-packages\\ipykernel_launcher.py:12: DeprecationWarning: use options instead of chrome_options\n",
      "  if sys.path[0] == '':\n"
     ]
    }
   ],
   "source": [
    "prox = Proxy()\n",
    "prox.proxy_type = ProxyType.MANUAL\n",
    "prox.http_proxy = \"157.230.103.189:36813\" #Change this ip code if needed\n",
    "#prox.socks_proxy = \"ip_addr:port\"\n",
    "#prox.ssl_proxy = \"ip_addr:port\"\n",
    "capabilities = webdriver.DesiredCapabilities.CHROME\n",
    "prox.add_to_capabilities(capabilities)\n",
    "options = Options()\n",
    "ua = UserAgent()\n",
    "userAgent = ua.random\n",
    "options.add_argument(f'user-agent={userAgent}')\n",
    "driver = webdriver.Chrome(chrome_options=options, executable_path=r'/Users/truon/Documents/BAN612/chromedriver', desired_capabilities=capabilities)"
   ]
  },
  {
   "cell_type": "code",
   "execution_count": 4,
   "metadata": {},
   "outputs": [],
   "source": [
    "listOfUrl = []\n",
    "listOfName = []\n",
    "url_DF = pd.read_csv('/Users/truon/Documents/BAN612/Zillow/GitTestRun/TestRun.csv')\n",
    "for url in url_DF['url']:\n",
    "    #print(url)\n",
    "    listOfUrl.append(url)\n",
    "for fname in url_DF['name']:\n",
    "    #print(fname)\n",
    "    listOfName.append(fname)"
   ]
  },
  {
   "cell_type": "code",
   "execution_count": 10,
   "metadata": {},
   "outputs": [],
   "source": [
    "for eachUrl, eachProp in zip(listOfUrl[0:2], listOfName[0:2]):\n",
    "    website = requests.get(eachUrl)\n",
    "    with open(f'/Users/truon/Documents/BAN612/Zillow/GitTestRun/SanJoseHouses/{eachProp}.txt', 'w') as file:\n",
    "        file.write(website.text)\n",
    "    \n",
    "#    with open('/Users/truon/Documents/BAN612/Zillow/GitTestRun/SanJoseHouses/'+ str(eachProp), 'w') as file:\n",
    "#        file.write(website.text)"
   ]
  },
  {
   "cell_type": "code",
   "execution_count": 17,
   "metadata": {
    "scrolled": true
   },
   "outputs": [],
   "source": [
    "for eachUrl, eachProp in zip(listOfUrl[0:2], listOfName[0:2]):\n",
    "    website = driver.get(eachUrl)\n",
    "    with open(f'/Users/truon/Documents/BAN612/Zillow/GitTestRun/SanJoseHouses/{eachProp}.html',\n",
    "              'w', encoding = 'utf-8') as file:\n",
    "        file.write(str(website))\n"
   ]
  },
  {
   "cell_type": "code",
   "execution_count": 27,
   "metadata": {},
   "outputs": [],
   "source": [
    "website = driver.get(\"https://www.zillow.com/homedetails/2197-Heather-Brook-Ct-San-Jose-CA-95138/19813293_zpid/\")\n",
    "with open(f'/Users/truon/Documents/BAN612/Zillow/GitTestRun/SanJoseHouses/poop.html', 'w', encoding = 'utf-8') as file:\n",
    "    file.write(driver.page_source)\n",
    "    "
   ]
  },
  {
   "cell_type": "code",
   "execution_count": null,
   "metadata": {},
   "outputs": [],
   "source": []
  }
 ],
 "metadata": {
  "kernelspec": {
   "display_name": "Python 3",
   "language": "python",
   "name": "python3"
  },
  "language_info": {
   "codemirror_mode": {
    "name": "ipython",
    "version": 3
   },
   "file_extension": ".py",
   "mimetype": "text/x-python",
   "name": "python",
   "nbconvert_exporter": "python",
   "pygments_lexer": "ipython3",
   "version": "3.7.9"
  }
 },
 "nbformat": 4,
 "nbformat_minor": 4
}
