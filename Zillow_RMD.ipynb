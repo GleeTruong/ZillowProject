{
 "cells": [
  {
   "cell_type": "markdown",
   "metadata": {},
   "source": [
    "# Zillow Webscraping\n",
    "## Project description\n",
    "- the goal the project\n",
    "- pricing, sqft, lot size, etc.\n",
    "- the whole bay area: counties\n",
    "## Explore the dataset\n",
    "-goals exploring dataset\n",
    "\n",
    "## Price prediction\n"
   ]
  },
  {
   "cell_type": "markdown",
   "metadata": {},
   "source": [
    "- Create seperate file to read into the url\n",
    "\n",
    "- Define  list_or_url:\n",
    "    clean up r, p, t\n",
    "    make it readable\n",
    "    \n",
    "Move import statement outside as a global\n"
   ]
  },
  {
   "cell_type": "code",
   "execution_count": null,
   "metadata": {},
   "outputs": [],
   "source": [
    "def list_of_url(url):\n",
    "    \"\"\"\n",
    "    This function does this\n",
    "    Variable:\n",
    "        url: url is a {datatype}\n",
    "    Output/Purpose\n",
    "        it returns a (datatype) \n",
    "    \n",
    "    \"\"\"\n",
    "    req = Request(url, headers={'User-Agent': 'Mozilla/5.0'})\n",
    "    webpage = urlopen(req).read()\n",
    "\n",
    "    # Creating a BeautifulSoup object of the html page for easy extraction of data.\n",
    "\n",
    "    soup = BS(webpage,'html.parser')\n",
    "    #print (soup.title)\n",
    "    #html=soup.prettify()\n",
    "    r= url.split(\":\")\n",
    "    p=(r[3]).split(\",\")\n",
    "    t=p[0]\n",
    "    abc=soup.find('span',class_='result-count')\n",
    "    abc=abc.string.split()\n",
    "    abc=int(abc[0])\n",
    "    abc\n",
    "\n",
    "    pqr=[]\n",
    "    pqr.append(url)\n",
    "    l=mt.ceil(abc/40)\n",
    "    while l!=1:\n",
    "        pqr.append(\"https://www.zillow.com/homes/94536/?searchQueryState={\\\"pagination\\\":{\\\"currentPage\\\":\"+str(l)+\"},\\\"regionSelection\\\":[{\\\"regionId\\\":\"+str(t)+\",\\\"regionType\\\":7}],\\\"filterState\\\":{\\\"sort\\\":{\\\"value\\\":\\\"globalrelevanceex\\\"},\\\"con\\\":{\\\"value\\\":false},\\\"mf\\\":{\\\"value\\\":false},\\\"manu\\\":{\\\"value\\\":false},\\\"land\\\":{\\\"value\\\":false},\\\"tow\\\":{\\\"value\\\":false},\\\"apa\\\":{\\\"value\\\":false}}}\")\n",
    "        l=l-1\n",
    "\n",
    "    return pqr "
   ]
  }
 ],
 "metadata": {
  "kernelspec": {
   "display_name": "Python 3",
   "language": "python",
   "name": "python3"
  },
  "language_info": {
   "codemirror_mode": {
    "name": "ipython",
    "version": 3
   },
   "file_extension": ".py",
   "mimetype": "text/x-python",
   "name": "python",
   "nbconvert_exporter": "python",
   "pygments_lexer": "ipython3",
   "version": "3.7.9"
  }
 },
 "nbformat": 4,
 "nbformat_minor": 4
}
